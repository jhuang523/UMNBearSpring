{
 "cells": [
  {
   "cell_type": "code",
   "execution_count": 39,
   "id": "d12507fa",
   "metadata": {},
   "outputs": [],
   "source": [
    "import pykasso as pk\n",
    "import numpy as np\n",
    "import pandas as pd\n",
    "import matplotlib.pyplot as plt\n",
    "import seaborn as sns\n",
    "import os\n",
    "# import cfpy"
   ]
  },
  {
   "cell_type": "code",
   "execution_count": 21,
   "id": "7d95283f",
   "metadata": {},
   "outputs": [],
   "source": [
    "springs = pd.read_csv('../../data/geo_data/karst_features.csv')\n",
    "springs = springs[springs.Type == 'spring']"
   ]
  },
  {
   "cell_type": "code",
   "execution_count": 24,
   "id": "d17f5a3f",
   "metadata": {},
   "outputs": [],
   "source": [
    "springs.to_csv('../../data/geo_data/springs.csv', index = False)"
   ]
  },
  {
   "cell_type": "code",
   "execution_count": 27,
   "id": "8af6617b",
   "metadata": {},
   "outputs": [],
   "source": [
    "springs[['UTME', 'UTMN']].to_csv('../../data/geo_data/springs_coords.txt', index = False, header = False, sep = ' ')"
   ]
  },
  {
   "cell_type": "code",
   "execution_count": 49,
   "id": "afa44dad",
   "metadata": {},
   "outputs": [
    {
     "name": "stdout",
     "output_type": "stream",
     "text": [
      "CAUTION: You are using the development version of this package.\n",
      "\n",
      " This network contains  1  connected components\n",
      "Warning: This network contains  0 looping branche.s Tortuosity is infinite on a looping branch. The looping branches are not considered for the mean tortuosity computation\n",
      "\n",
      "\n",
      " This network contains  1  connected components\n",
      "Warning: This network contains  0 looping branche.s Tortuosity is infinite on a looping branch. The looping branches are not considered for the mean tortuosity computation\n",
      "\n",
      "\n",
      " This network contains  1  connected components\n",
      "Warning: This network contains  0 looping branche.s Tortuosity is infinite on a looping branch. The looping branches are not considered for the mean tortuosity computation\n",
      "\n",
      "\n",
      " This network contains  1  connected components\n",
      "Warning: This network contains  0 looping branche.s Tortuosity is infinite on a looping branch. The looping branches are not considered for the mean tortuosity computation\n",
      "\n",
      "\n",
      " This network contains  1  connected components\n",
      "Warning: This network contains  0 looping branche.s Tortuosity is infinite on a looping branch. The looping branches are not considered for the mean tortuosity computation\n",
      "\n",
      "\n",
      " This network contains  1  connected components\n",
      "Warning: This network contains  0 looping branche.s Tortuosity is infinite on a looping branch. The looping branches are not considered for the mean tortuosity computation\n",
      "\n",
      "\n",
      " This network contains  1  connected components\n",
      "Warning: This network contains  0 looping branche.s Tortuosity is infinite on a looping branch. The looping branches are not considered for the mean tortuosity computation\n",
      "\n",
      "\n",
      " This network contains  1  connected components\n",
      "Warning: This network contains  0 looping branche.s Tortuosity is infinite on a looping branch. The looping branches are not considered for the mean tortuosity computation\n",
      "\n",
      "\n",
      " This network contains  1  connected components\n",
      "Warning: This network contains  0 looping branche.s Tortuosity is infinite on a looping branch. The looping branches are not considered for the mean tortuosity computation\n",
      "\n",
      "\n",
      " This network contains  1  connected components\n",
      "Warning: This network contains  0 looping branche.s Tortuosity is infinite on a looping branch. The looping branches are not considered for the mean tortuosity computation\n",
      "\n"
     ]
    }
   ],
   "source": [
    "catchment = pk.SKS('conduits.yaml')\n",
    "overwrite = True\n",
    "n_networks = 10\n",
    "output_dir = 'conduit_network'\n",
    "os.makedirs(output_dir, exist_ok = overwrite)\n",
    "for i in range(n_networks): \n",
    "    catchment.compute_karst_network()\n",
    "    network = catchment.karst_simulations[-1].maps['karst'][0]\n",
    "    uuid = len(os.listdir(output_dir))\n",
    "    fname = f'bs_{uuid}'\n",
    "    path = f'{output_dir}/{fname}'\n",
    "    np.save(path, network)\n"
   ]
  },
  {
   "cell_type": "code",
   "execution_count": null,
   "id": "a53524c6",
   "metadata": {},
   "outputs": [],
   "source": [
    "os.makedirs()"
   ]
  }
 ],
 "metadata": {
  "kernelspec": {
   "display_name": "Python 3",
   "language": "python",
   "name": "python3"
  },
  "language_info": {
   "codemirror_mode": {
    "name": "ipython",
    "version": 3
   },
   "file_extension": ".py",
   "mimetype": "text/x-python",
   "name": "python",
   "nbconvert_exporter": "python",
   "pygments_lexer": "ipython3",
   "version": "3.9.13"
  }
 },
 "nbformat": 4,
 "nbformat_minor": 5
}
